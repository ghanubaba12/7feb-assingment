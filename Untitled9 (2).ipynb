{
 "cells": [
  {
   "cell_type": "code",
   "execution_count": null,
   "id": "c881b1a2-ea22-43d1-b4af-5ac3ed243b06",
   "metadata": {},
   "outputs": [],
   "source": [
    "\"\"\"1. You are writing code for a company. The requirement of the company is that you create a python\n",
    "function that will check whether the password entered by the user is correct or not. The function should\n",
    "take the password as input and return the string “Valid Password” if the entered password follows the\n",
    "below-given password guidelines else it should return “Invalid Password”.\n",
    "Note: 1. The Password should contain at least two uppercase letters and at least two lowercase letters.\n",
    "2. The Password should contain at least a number and three special characters.\n",
    "3. The length of the password should be 10 characters long.\"\"\""
   ]
  },
  {
   "cell_type": "code",
   "execution_count": 1,
   "id": "d4825903-7f7b-4399-86dd-31e10971f2c8",
   "metadata": {},
   "outputs": [
    {
     "name": "stdout",
     "output_type": "stream",
     "text": [
      "Invalid Password\n"
     ]
    }
   ],
   "source": [
    "def check_password(password):\n",
    "    upper_count = 0\n",
    "    lower_count = 0\n",
    "    number_count = 0\n",
    "    special_count = 0\n",
    "    for char in password:\n",
    "        if char.isupper():\n",
    "            upper_count += 1\n",
    "        elif char.islower():\n",
    "            lower_count += 1\n",
    "        elif char.isdigit():\n",
    "            number_count += 1\n",
    "        elif char in \"!@#$%^&*()\":\n",
    "            special_count += 1\n",
    "    if upper_count >= 2 and lower_count >= 2 and number_count >= 1 and special_count >= 3 and len(password) == 10:\n",
    "        return \"Valid Password\"\n",
    "    else:\n",
    "        return \"Invalid Password\"\n",
    "\n",
    "password = \"abcdefghij\"\n",
    "result = check_password(password)\n",
    "print(result)\n",
    "# Output: Invalid Password\n"
   ]
  },
  {
   "cell_type": "code",
   "execution_count": null,
   "id": "d0193437-23a9-48d5-9f27-08afc1c8bbe1",
   "metadata": {},
   "outputs": [],
   "source": [
    "In this function, the check_password() function takes a password as an argument. It initializes counters for upper case letters, lower case letters, numbers, and special characters. It then iterates over each character in the password and updates the counters accordingly. After iterating over the password, it checks if the password meets all the criteria, i.e., contains at least two upper case letters, two lower case letters, one number, and three special characters, and is 10 characters long. If it meets all the criteria, it returns \"Valid Password\", otherwise, it returns \"Invalid Password\"."
   ]
  },
  {
   "cell_type": "code",
   "execution_count": null,
   "id": "da18d152-7b4c-4477-93dc-0e489fa82b87",
   "metadata": {},
   "outputs": [],
   "source": [
    "\"\"\"Q2. Solve the below-given questions using at least one of the following:\n",
    "1. Lambda functioJ\n",
    "2. Filter functioJ\n",
    "3. Zap functioJ\n",
    "4. List ComprehensioI\n",
    "B Check if the string starts with a particular letterY\n",
    "B Check if the string is numericY\n",
    "B Sort a list of tuples having fruit names and their quantity. [(\"mango\",99),(\"orange\",80), (\"grapes\", 1000)-\n",
    "B Find the squares of numbers from 1 to 10Y\n",
    "B Find the cube root of numbers from 1 to 10Y\n",
    "B Check if a given number is evenY\n",
    "B Filter odd numbers from the given list.\n",
    "[1,2,3,4,5,6,7,8,9,10-\n",
    "B Sort a list of integers into positive and negative integers lists.\n",
    "[1,2,3,4,5,6,-1,-2,-3,-4,-5,0]\"\"\""
   ]
  },
  {
   "cell_type": "code",
   "execution_count": null,
   "id": "91fc84b0-e301-459b-bb97-c5805861dc01",
   "metadata": {},
   "outputs": [],
   "source": [
    "Here are the solutions to the above questions using various functions:\n",
    "\n",
    "Check if the string starts with a particular letter:"
   ]
  },
  {
   "cell_type": "code",
   "execution_count": 2,
   "id": "1de54449-2d60-45f3-9841-0b208a09767a",
   "metadata": {},
   "outputs": [
    {
     "name": "stdout",
     "output_type": "stream",
     "text": [
      "True\n"
     ]
    }
   ],
   "source": [
    "string = \"Hello World\"\n",
    "check_letter = lambda string: string.startswith(\"H\")\n",
    "print(check_letter(string))\n",
    "# Output: True\n"
   ]
  },
  {
   "cell_type": "code",
   "execution_count": 3,
   "id": "09b98f07-c4bd-47c1-bce3-61e49e7c604a",
   "metadata": {},
   "outputs": [
    {
     "name": "stdout",
     "output_type": "stream",
     "text": [
      "True\n"
     ]
    }
   ],
   "source": [
    "string = \"123456\"\n",
    "check_numeric = lambda string: string.isdigit()\n",
    "print(check_numeric(string))\n",
    "# Output: True\n"
   ]
  },
  {
   "cell_type": "code",
   "execution_count": 4,
   "id": "6280837b-60b9-4425-aa2f-75a6e88c4f49",
   "metadata": {},
   "outputs": [
    {
     "name": "stdout",
     "output_type": "stream",
     "text": [
      "[('orange', 80), ('mango', 99), ('grapes', 1000)]\n"
     ]
    }
   ],
   "source": [
    "fruits = [(\"mango\", 99), (\"orange\", 80), (\"grapes\", 1000)]\n",
    "sorted_fruits = sorted(fruits, key=lambda x: x[1])\n",
    "print(sorted_fruits)\n",
    "# Output: [(\"mango\", 99), (\"orange\", 80), (\"grapes\", 1000)]\n"
   ]
  },
  {
   "cell_type": "code",
   "execution_count": 5,
   "id": "faa0bc96-ef45-486b-b8ec-67214f980628",
   "metadata": {},
   "outputs": [
    {
     "name": "stdout",
     "output_type": "stream",
     "text": [
      "[1, 4, 9, 16, 25, 36, 49, 64, 81, 100]\n"
     ]
    }
   ],
   "source": [
    "numbers = [1, 2, 3, 4, 5, 6, 7, 8, 9, 10]\n",
    "squared_numbers = list(map(lambda x: x**2, numbers))\n",
    "print(squared_numbers)\n",
    "# Output: [1, 4, 9, 16, 25, 36, 49, 64, 81, 100]\n"
   ]
  },
  {
   "cell_type": "code",
   "execution_count": null,
   "id": "28e7bbd4-0325-4939-925a-69264156bd41",
   "metadata": {},
   "outputs": [],
   "source": []
  }
 ],
 "metadata": {
  "kernelspec": {
   "display_name": "Python 3 (ipykernel)",
   "language": "python",
   "name": "python3"
  },
  "language_info": {
   "codemirror_mode": {
    "name": "ipython",
    "version": 3
   },
   "file_extension": ".py",
   "mimetype": "text/x-python",
   "name": "python",
   "nbconvert_exporter": "python",
   "pygments_lexer": "ipython3",
   "version": "3.10.8"
  }
 },
 "nbformat": 4,
 "nbformat_minor": 5
}
